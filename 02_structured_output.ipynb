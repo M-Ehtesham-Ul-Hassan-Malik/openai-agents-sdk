{
 "cells": [
  {
   "cell_type": "code",
   "execution_count": 1,
   "id": "ce3a15a5",
   "metadata": {},
   "outputs": [],
   "source": [
    "import os\n",
    "from dotenv import load_dotenv\n",
    "\n",
    "# Load environment variables from .env file\n",
    "load_dotenv()\n",
    "\n",
    "api_key = os.environ.get(\"OPENAI_API_KEY\")\n",
    "\n",
    "if not api_key:\n",
    "    # Prompt the user to enter the API key if not set\n",
    "    import getpass\n",
    "    api_key = getpass.getpass(\"Please enter your OPENAI_API_KEY: \")\n",
    "    if not api_key:\n",
    "        raise ValueError(\"OPENAI_API_KEY variable is not set in the environment variables or provided by user.\")"
   ]
  },
  {
   "cell_type": "markdown",
   "id": "d0a732b9",
   "metadata": {},
   "source": [
    "# Structured Outputs\n",
    "\n",
    "Structured outputs are the way to format the output of LLM in a structured manner. This is useful when a task required a specific formatting."
   ]
  },
  {
   "cell_type": "code",
   "execution_count": null,
   "id": "456b7486",
   "metadata": {},
   "outputs": [
    {
     "data": {
      "text/plain": [
       "Recipe(title='Behari Chicken Curry', ingredients=['1 kg chicken, cut into pieces', '2 medium onions, finely sliced', '2 medium tomatoes, chopped', '1 tablespoon ginger-garlic paste', '1 tablespoon red chili powder', '1 teaspoon turmeric powder', '1 tablespoon garam masala', '1 teaspoon coriander powder', '1 teaspoon cumin powder', 'Salt to taste', '1/2 cup yogurt', '1/2 cup cooking oil', 'Fresh cilantro, chopped (for garnish)', 'Green chilies, sliced (for garnish)'], cooking_time=60, servings=4)"
      ]
     },
     "execution_count": 3,
     "metadata": {},
     "output_type": "execute_result"
    }
   ],
   "source": [
    "from pydantic import BaseModel\n",
    "from agents import Agent, Runner\n",
    "\n",
    "class Recipe(BaseModel):\n",
    "    title: str\n",
    "    ingredients: list[str]\n",
    "    cooking_time: int  # in minutes\n",
    "    servings: int\n",
    "\n",
    "recipe_agent = Agent(\n",
    "    name=\"Recipe Agent\",\n",
    "    instructions=\"You are agent for creating the recipes. You will be given the name of a dish, and you need to generate a recipe with ingredients, cooking time, and servings.\",\n",
    "    model=\"gpt-4o-mini\",\n",
    "    output_type=Recipe\n",
    ")\n",
    "\n",
    "response = await Runner.run(recipe_agent, \"Behari Chicken Curry\")\n",
    "response.final_output"
   ]
  },
  {
   "cell_type": "code",
   "execution_count": null,
   "id": "4e1d9ff3",
   "metadata": {},
   "outputs": [],
   "source": []
  }
 ],
 "metadata": {
  "kernelspec": {
   "display_name": "venv",
   "language": "python",
   "name": "python3"
  },
  "language_info": {
   "codemirror_mode": {
    "name": "ipython",
    "version": 3
   },
   "file_extension": ".py",
   "mimetype": "text/x-python",
   "name": "python",
   "nbconvert_exporter": "python",
   "pygments_lexer": "ipython3",
   "version": "3.13.7"
  }
 },
 "nbformat": 4,
 "nbformat_minor": 5
}

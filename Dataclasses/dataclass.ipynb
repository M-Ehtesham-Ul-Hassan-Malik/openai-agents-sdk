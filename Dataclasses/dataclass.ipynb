{
 "cells": [
  {
   "cell_type": "code",
   "execution_count": 11,
   "id": "0b414fb1",
   "metadata": {},
   "outputs": [],
   "source": [
    "from dataclasses import dataclass\n",
    "from typing import ClassVar\n",
    "\n",
    "@dataclass\n",
    "class Pakistani:\n",
    "    \n",
    "    national_language: ClassVar[str] = 'Urdu'\n",
    "    national_food: ClassVar[str] = 'Biryani'\n",
    "    normal_body_temp: ClassVar[float] = 98.6 \n",
    "    name: str\n",
    "    age: int\n",
    "    weight: float\n",
    "    liked_food: str\n",
    "\n",
    "    def speaks(self):\n",
    "        return f\"{self.name} is speaking {Pakistani.national_language}\"\n",
    "\n",
    "    def eats(self):\n",
    "        return f\"{self.name} is eating...\"\n",
    "\n",
    "    @staticmethod\n",
    "    def country_language():\n",
    "        return Pakistani.national_language"
   ]
  },
  {
   "cell_type": "code",
   "execution_count": 12,
   "id": "c6daab88",
   "metadata": {},
   "outputs": [],
   "source": [
    "ehtesham = Pakistani(name=\"Ehtesham\", age=21, weight=64, liked_food=\"Halwa Puri\")"
   ]
  },
  {
   "cell_type": "code",
   "execution_count": 13,
   "id": "f18ade21",
   "metadata": {},
   "outputs": [
    {
     "name": "stdout",
     "output_type": "stream",
     "text": [
      "Pakistani(name='Ehtesham', age=21, weight=64, liked_food='Halwa Puri')\n"
     ]
    }
   ],
   "source": [
    "print(ehtesham)"
   ]
  },
  {
   "cell_type": "code",
   "execution_count": 14,
   "id": "25e1df13",
   "metadata": {},
   "outputs": [
    {
     "name": "stdout",
     "output_type": "stream",
     "text": [
      "Ehtesham\n",
      "21\n",
      "64\n",
      "Halwa Puri\n"
     ]
    }
   ],
   "source": [
    "print(ehtesham.name)\n",
    "print(ehtesham.age)\n",
    "print(ehtesham.weight)\n",
    "print(ehtesham.liked_food)"
   ]
  },
  {
   "cell_type": "code",
   "execution_count": 15,
   "id": "a07d8492",
   "metadata": {},
   "outputs": [
    {
     "name": "stdout",
     "output_type": "stream",
     "text": [
      "Urdu\n",
      "Biryani\n"
     ]
    }
   ],
   "source": [
    "print(Pakistani.national_language)\n",
    "print(Pakistani.national_food)"
   ]
  },
  {
   "cell_type": "code",
   "execution_count": 16,
   "id": "ca3f101e",
   "metadata": {},
   "outputs": [
    {
     "name": "stdout",
     "output_type": "stream",
     "text": [
      "Urdu\n"
     ]
    }
   ],
   "source": [
    "print(Pakistani.country_language())"
   ]
  },
  {
   "cell_type": "code",
   "execution_count": 17,
   "id": "d588bad3",
   "metadata": {},
   "outputs": [
    {
     "data": {
      "text/plain": [
       "'Urdu'"
      ]
     },
     "execution_count": 17,
     "metadata": {},
     "output_type": "execute_result"
    }
   ],
   "source": [
    "Pakistani.country_language()"
   ]
  },
  {
   "cell_type": "code",
   "execution_count": null,
   "id": "51496304",
   "metadata": {},
   "outputs": [
    {
     "data": {
      "text/plain": [
       "'Urdu'"
      ]
     },
     "execution_count": 18,
     "metadata": {},
     "output_type": "execute_result"
    }
   ],
   "source": [
    "# not a good practice\n",
    "ehtesham.country_language()"
   ]
  },
  {
   "cell_type": "code",
   "execution_count": null,
   "id": "689dfab6",
   "metadata": {},
   "outputs": [
    {
     "data": {
      "text/plain": [
       "'Biryani'"
      ]
     },
     "execution_count": 21,
     "metadata": {},
     "output_type": "execute_result"
    }
   ],
   "source": [
    "# not a good practice\n",
    "ehtesham.national_food"
   ]
  },
  {
   "cell_type": "code",
   "execution_count": 22,
   "id": "78ffa448",
   "metadata": {},
   "outputs": [
    {
     "data": {
      "text/plain": [
       "'Hello!'"
      ]
     },
     "execution_count": 22,
     "metadata": {},
     "output_type": "execute_result"
    }
   ],
   "source": [
    "def greet():\n",
    "    return \"Hello!\"\n",
    "\n",
    "greet()"
   ]
  },
  {
   "cell_type": "code",
   "execution_count": 23,
   "id": "0632964d",
   "metadata": {},
   "outputs": [
    {
     "data": {
      "text/plain": [
       "['__annotations__',\n",
       " '__builtins__',\n",
       " '__call__',\n",
       " '__class__',\n",
       " '__closure__',\n",
       " '__code__',\n",
       " '__defaults__',\n",
       " '__delattr__',\n",
       " '__dict__',\n",
       " '__dir__',\n",
       " '__doc__',\n",
       " '__eq__',\n",
       " '__format__',\n",
       " '__ge__',\n",
       " '__get__',\n",
       " '__getattribute__',\n",
       " '__getstate__',\n",
       " '__globals__',\n",
       " '__gt__',\n",
       " '__hash__',\n",
       " '__init__',\n",
       " '__init_subclass__',\n",
       " '__kwdefaults__',\n",
       " '__le__',\n",
       " '__lt__',\n",
       " '__module__',\n",
       " '__name__',\n",
       " '__ne__',\n",
       " '__new__',\n",
       " '__qualname__',\n",
       " '__reduce__',\n",
       " '__reduce_ex__',\n",
       " '__repr__',\n",
       " '__setattr__',\n",
       " '__sizeof__',\n",
       " '__str__',\n",
       " '__subclasshook__',\n",
       " '__type_params__']"
      ]
     },
     "execution_count": 23,
     "metadata": {},
     "output_type": "execute_result"
    }
   ],
   "source": [
    "# check the method contain in the function\n",
    "dir(greet)"
   ]
  },
  {
   "cell_type": "code",
   "execution_count": 50,
   "id": "1e080683",
   "metadata": {},
   "outputs": [],
   "source": [
    "@dataclass\n",
    "class human:\n",
    "    name: str\n",
    "    age: int\n",
    "\n",
    "    def greetHuman(self):\n",
    "        return \"Hello, Human\"\n",
    "    \n",
    "    def myage(self):\n",
    "        return f\"My age is {self.age}\"\n",
    "    \n",
    "    def __call__(self):\n",
    "        return \"hi\""
   ]
  },
  {
   "cell_type": "code",
   "execution_count": 51,
   "id": "3937b54e",
   "metadata": {},
   "outputs": [
    {
     "name": "stdout",
     "output_type": "stream",
     "text": [
      "Hello, Human\n",
      "My age is 17\n"
     ]
    }
   ],
   "source": [
    "obj1 = human(name=\"Amjad\", age=17)\n",
    "\n",
    "print(obj1.greetHuman())\n",
    "print(obj1.myage())"
   ]
  },
  {
   "cell_type": "code",
   "execution_count": 46,
   "id": "3d9892a3",
   "metadata": {},
   "outputs": [
    {
     "ename": "TypeError",
     "evalue": "'human' object is not callable",
     "output_type": "error",
     "traceback": [
      "\u001b[31m---------------------------------------------------------------------------\u001b[39m",
      "\u001b[31mTypeError\u001b[39m                                 Traceback (most recent call last)",
      "\u001b[36mCell\u001b[39m\u001b[36m \u001b[39m\u001b[32mIn[46]\u001b[39m\u001b[32m, line 1\u001b[39m\n\u001b[32m----> \u001b[39m\u001b[32m1\u001b[39m \u001b[43mobj1\u001b[49m\u001b[43m(\u001b[49m\u001b[43m)\u001b[49m\n",
      "\u001b[31mTypeError\u001b[39m: 'human' object is not callable"
     ]
    }
   ],
   "source": [
    "obj1()"
   ]
  },
  {
   "cell_type": "code",
   "execution_count": 52,
   "id": "0f2e1c4d",
   "metadata": {},
   "outputs": [
    {
     "data": {
      "text/plain": [
       "'hi'"
      ]
     },
     "execution_count": 52,
     "metadata": {},
     "output_type": "execute_result"
    }
   ],
   "source": [
    "# after defining magic function or dender\n",
    "obj1()"
   ]
  },
  {
   "cell_type": "code",
   "execution_count": 53,
   "id": "c0a37f72",
   "metadata": {},
   "outputs": [
    {
     "data": {
      "text/plain": [
       "['__annotations__',\n",
       " '__call__',\n",
       " '__class__',\n",
       " '__dataclass_fields__',\n",
       " '__dataclass_params__',\n",
       " '__delattr__',\n",
       " '__dict__',\n",
       " '__dir__',\n",
       " '__doc__',\n",
       " '__eq__',\n",
       " '__firstlineno__',\n",
       " '__format__',\n",
       " '__ge__',\n",
       " '__getattribute__',\n",
       " '__getstate__',\n",
       " '__gt__',\n",
       " '__hash__',\n",
       " '__init__',\n",
       " '__init_subclass__',\n",
       " '__le__',\n",
       " '__lt__',\n",
       " '__match_args__',\n",
       " '__module__',\n",
       " '__ne__',\n",
       " '__new__',\n",
       " '__reduce__',\n",
       " '__reduce_ex__',\n",
       " '__replace__',\n",
       " '__repr__',\n",
       " '__setattr__',\n",
       " '__sizeof__',\n",
       " '__static_attributes__',\n",
       " '__str__',\n",
       " '__subclasshook__',\n",
       " '__weakref__',\n",
       " 'age',\n",
       " 'greetHuman',\n",
       " 'myage',\n",
       " 'name']"
      ]
     },
     "execution_count": 53,
     "metadata": {},
     "output_type": "execute_result"
    }
   ],
   "source": [
    "dir(obj1)"
   ]
  },
  {
   "cell_type": "code",
   "execution_count": 54,
   "id": "ffc2180e",
   "metadata": {},
   "outputs": [
    {
     "data": {
      "text/plain": [
       "{'name': 'Amjad', 'age': 17}"
      ]
     },
     "execution_count": 54,
     "metadata": {},
     "output_type": "execute_result"
    }
   ],
   "source": [
    "obj1.__dict__"
   ]
  },
  {
   "cell_type": "markdown",
   "id": "335c562c",
   "metadata": {},
   "source": [
    "## Good Example"
   ]
  },
  {
   "cell_type": "code",
   "execution_count": 3,
   "id": "551497cf",
   "metadata": {},
   "outputs": [
    {
     "name": "stdout",
     "output_type": "stream",
     "text": [
      "==============GOOD DATACLASS EXAMPLE==============\n",
      "Person 1: person(name='Amjad', age=17, email=None, tags=['MERN-Stack Developer'])\n",
      "Person 2: person(name='Fatima', age=8, email='fatima@example.com', tags=[])\n",
      "Person 3: person(name='Ehtesham', age=21, email=None, tags=['AI-Engineer', 'Table-Tennis Player'])\n",
      "Is Amjad is Adult? False\n",
      "Is Fatima is Adult? False\n",
      "Is Ehtesham is Adult? True\n"
     ]
    }
   ],
   "source": [
    "from dataclasses import dataclass, field\n",
    "\n",
    "@dataclass\n",
    "class person:\n",
    "    name: str\n",
    "    age: int\n",
    "    email: str | None = None\n",
    "    # using field() with default_factory for mutable default values\n",
    "    tags: list[str] = field(default_factory= list)\n",
    "\n",
    "    def is_adult(self) -> bool:\n",
    "        \"\"\"Example method that uses dataclass attribute.\"\"\"\n",
    "        return self.age >=18\n",
    "    \n",
    "\n",
    "# usage example\n",
    "def demo_good_usage():\n",
    "    \n",
    "    # creating instances\n",
    "    p1 = person(name=\"Amjad\", age=17)\n",
    "    p2 = person(name=\"Fatima\", age=8, email=\"fatima@example.com\")\n",
    "    p3 = person(name=\"Ehtesham\", age=21, tags=[\"AI-Engineer\", \"Table-Tennis Player\"])\n",
    "\n",
    "\n",
    "    # adding to a mutable field\n",
    "    p1.tags.append(\"MERN-Stack Developer\")\n",
    "\n",
    "    # using built-in string representation\n",
    "    print(f\"Person 1: {p1}\")\n",
    "    print(f\"Person 2: {p2}\")\n",
    "    print(f\"Person 3: {p3}\")\n",
    "\n",
    "    # using the instance method \n",
    "    print(f\"Is {p1.name} is Adult? {p1.is_adult()}\")\n",
    "    print(f\"Is {p2.name} is Adult? {p2.is_adult()}\")\n",
    "    print(f\"Is {p3.name} is Adult? {p3.is_adult()}\")\n",
    "\n",
    "if __name__ == '__main__':\n",
    "    print(\"==============GOOD DATACLASS EXAMPLE==============\")\n",
    "    demo_good_usage()\n",
    "\n"
   ]
  },
  {
   "cell_type": "markdown",
   "id": "846bbffd",
   "metadata": {},
   "source": [
    "## Bad Example\n",
    "Traditional class style without @dataclass or field"
   ]
  },
  {
   "cell_type": "code",
   "execution_count": 4,
   "id": "e76f4291",
   "metadata": {},
   "outputs": [
    {
     "name": "stdout",
     "output_type": "stream",
     "text": [
      "==============TRADITIONAL CLASS EXAMPLE==============\n",
      "Person 1: Person(name='Amjad', age=17, email=None, tags=['MERN-Stack Developer'])\n",
      "Person 2: Person(name='Fatima', age=8, email='fatima@example.com', tags=[])\n",
      "Person 3: Person(name='Ehtesham', age=21, email=None, tags=['AI-Engineer', 'Table-Tennis Player'])\n",
      "Is Amjad Adult? False\n",
      "Is Fatima Adult? False\n",
      "Is Ehtesham Adult? True\n"
     ]
    }
   ],
   "source": [
    "class Person:\n",
    "    def __init__(self, name: str, age: int, email: str | None = None, tags: list[str] | None = None):\n",
    "        self.name = name\n",
    "        self.age = age\n",
    "        self.email = email\n",
    "        # avoid mutable default arguments\n",
    "        self.tags = tags if tags is not None else []\n",
    "\n",
    "    def __repr__(self) -> str:\n",
    "        return f\"Person(name={self.name!r}, age={self.age!r}, email={self.email!r}, tags={self.tags!r})\"\n",
    "\n",
    "    def is_adult(self) -> bool:\n",
    "        \"\"\"Example method that uses class attribute.\"\"\"\n",
    "        return self.age >= 18\n",
    "\n",
    "\n",
    "# usage example\n",
    "def demo_good_usage():\n",
    "    # creating instances\n",
    "    p1 = Person(name=\"Amjad\", age=17)\n",
    "    p2 = Person(name=\"Fatima\", age=8, email=\"fatima@example.com\")\n",
    "    p3 = Person(name=\"Ehtesham\", age=21, tags=[\"AI-Engineer\", \"Table-Tennis Player\"])\n",
    "\n",
    "    # adding to a mutable field\n",
    "    p1.tags.append(\"MERN-Stack Developer\")\n",
    "\n",
    "    # using __repr__ string representation\n",
    "    print(f\"Person 1: {p1}\")\n",
    "    print(f\"Person 2: {p2}\")\n",
    "    print(f\"Person 3: {p3}\")\n",
    "\n",
    "    # using the instance method \n",
    "    print(f\"Is {p1.name} Adult? {p1.is_adult()}\")\n",
    "    print(f\"Is {p2.name} Adult? {p2.is_adult()}\")\n",
    "    print(f\"Is {p3.name} Adult? {p3.is_adult()}\")\n",
    "\n",
    "\n",
    "if __name__ == '__main__':\n",
    "    print(\"==============TRADITIONAL CLASS EXAMPLE==============\")\n",
    "    demo_good_usage()\n"
   ]
  },
  {
   "cell_type": "code",
   "execution_count": null,
   "id": "85a46548",
   "metadata": {},
   "outputs": [],
   "source": []
  }
 ],
 "metadata": {
  "kernelspec": {
   "display_name": "agents-sdk-crash-course",
   "language": "python",
   "name": "python3"
  },
  "language_info": {
   "codemirror_mode": {
    "name": "ipython",
    "version": 3
   },
   "file_extension": ".py",
   "mimetype": "text/x-python",
   "name": "python",
   "nbconvert_exporter": "python",
   "pygments_lexer": "ipython3",
   "version": "3.13.3"
  }
 },
 "nbformat": 4,
 "nbformat_minor": 5
}

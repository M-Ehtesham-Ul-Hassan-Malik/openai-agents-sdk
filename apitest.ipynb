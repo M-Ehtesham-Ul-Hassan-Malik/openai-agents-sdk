{
 "cells": [
  {
   "cell_type": "code",
   "execution_count": 6,
   "id": "d27fdb19",
   "metadata": {},
   "outputs": [],
   "source": [
    "import os\n",
    "import asyncio\n"
   ]
  },
  {
   "cell_type": "code",
   "execution_count": 7,
   "id": "19ee245d",
   "metadata": {},
   "outputs": [
    {
     "name": "stdout",
     "output_type": "stream",
     "text": [
      "Code calls on itself,  \n",
      "Loops echo in silent form—  \n",
      "Depths of logic grow.\n"
     ]
    }
   ],
   "source": [
    "from agents import Agent, Runner\n",
    "\n",
    "agent = Agent(name=\"Assistant\", instructions=\"You are a helpful assistant\")\n",
    "\n",
    "result = await Runner.run(agent, \"Write a haiku about recursion in programming.\")\n",
    "print(result.final_output)\n",
    "\n",
    "# Code within the code,\n",
    "# Functions calling themselves,\n",
    "# Infinite loop's dance."
   ]
  },
  {
   "cell_type": "code",
   "execution_count": null,
   "id": "c0bc556c",
   "metadata": {},
   "outputs": [],
   "source": []
  }
 ],
 "metadata": {
  "kernelspec": {
   "display_name": "agents-sdk-crash-course",
   "language": "python",
   "name": "python3"
  },
  "language_info": {
   "codemirror_mode": {
    "name": "ipython",
    "version": 3
   },
   "file_extension": ".py",
   "mimetype": "text/x-python",
   "name": "python",
   "nbconvert_exporter": "python",
   "pygments_lexer": "ipython3",
   "version": "3.13.3"
  }
 },
 "nbformat": 4,
 "nbformat_minor": 5
}

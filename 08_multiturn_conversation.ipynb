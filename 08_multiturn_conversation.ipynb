{
 "cells": [
  {
   "cell_type": "code",
   "execution_count": 1,
   "id": "b41f3de3",
   "metadata": {},
   "outputs": [],
   "source": [
    "import os\n",
    "from dotenv import load_dotenv\n",
    "\n",
    "# Load environment variables from .env file\n",
    "load_dotenv()\n",
    "\n",
    "api_key = os.environ.get(\"OPENAI_API_KEY\")\n",
    "\n",
    "if not api_key:\n",
    "    # Prompt the user to enter the API key if not set\n",
    "    import getpass\n",
    "    api_key = getpass.getpass(\"Please enter your OPENAI_API_KEY: \")\n",
    "    if not api_key:\n",
    "        raise ValueError(\"OPENAI_API_KEY variable is not set in the environment variables or provided by user.\")"
   ]
  },
  {
   "cell_type": "code",
   "execution_count": 4,
   "id": "787da0eb",
   "metadata": {},
   "outputs": [
    {
     "name": "stdout",
     "output_type": "stream",
     "text": [
      "You are chating with Malik Shb ka Agent. Type 'exit' to quit.\n",
      "\n",
      "You: hey\n",
      "Agent: Hello! How can I assist you today?\n",
      "\n",
      "You: tell me about the president of Italy?\n",
      "Agent: As of my last update, the President of Italy is Sergio Mattarella, in office since February 3, 2015. He serves as the head of state and represents national unity. His role is largely ceremonial, with powers including appointing the Prime Minister and overseeing the functioning of government.\n",
      "\n",
      "You: capital of italy\n",
      "Agent: The capital of Italy is Rome.\n",
      "\n",
      "You: what was my second msg?\n",
      "Agent: Your second message was asking about the president of Italy.\n",
      "\n",
      "You: great man\n",
      "Agent: Glad you think so! Would you like to know more about him?\n",
      "\n",
      "You: tell me about yourself\n",
      "Agent: I’m an AI assistant designed to help with information and tasks. How can I assist you today?\n",
      "\n",
      "You: thank you please exit\n",
      "Agent: You're welcome! If you need anything else, feel free to return. Have a great day!\n",
      "\n",
      "You: exit\n",
      "Exiting the chat. Goodbye!\n"
     ]
    }
   ],
   "source": [
    "from agents import Agent, Runner, TResponseInputItem\n",
    "\n",
    "simple_agent = Agent(\n",
    "    name=\"Malik Shb ka Agent\",\n",
    "    instructions=\"You are a helpful assistant. Reply very consisely.\",\n",
    "    model=\"gpt-4o-mini\"\n",
    ")\n",
    "\n",
    "conversation: list[TResponseInputItem] = []\n",
    "\n",
    "print(\"You are chating with Malik Shb ka Agent. Type 'exit' to quit.\\n\")\n",
    "while True:\n",
    "    user_input = input(\"You: \")\n",
    "    print(\"You: \"+ user_input)\n",
    "\n",
    "    conversation.append({\"role\": \"user\", \"content\": user_input})\n",
    "    if user_input.lower() == \"exit\":\n",
    "        print(\"Exiting the chat. Goodbye!\")\n",
    "        break\n",
    "\n",
    "    response = await Runner.run(simple_agent, conversation)\n",
    "    print(\"Agent: \" + response.final_output + \"\\n\")\n",
    "    conversation.append({\"role\": \"assistant\", \"content\": response.final_output})\n",
    "\n",
    "\n",
    "\n",
    "\n"
   ]
  },
  {
   "cell_type": "code",
   "execution_count": 5,
   "id": "c5599dc4",
   "metadata": {},
   "outputs": [
    {
     "name": "stdout",
     "output_type": "stream",
     "text": [
      "[{'role': 'user', 'content': 'hey'}, {'role': 'assistant', 'content': 'Hello! How can I assist you today?'}, {'role': 'user', 'content': 'tell me about the president of Italy?'}, {'role': 'assistant', 'content': 'As of my last update, the President of Italy is Sergio Mattarella, in office since February 3, 2015. He serves as the head of state and represents national unity. His role is largely ceremonial, with powers including appointing the Prime Minister and overseeing the functioning of government.'}, {'role': 'user', 'content': 'capital of italy'}, {'role': 'assistant', 'content': 'The capital of Italy is Rome.'}, {'role': 'user', 'content': 'what was my second msg?'}, {'role': 'assistant', 'content': 'Your second message was asking about the president of Italy.'}, {'role': 'user', 'content': 'great man'}, {'role': 'assistant', 'content': 'Glad you think so! Would you like to know more about him?'}, {'role': 'user', 'content': 'tell me about yourself'}, {'role': 'assistant', 'content': 'I’m an AI assistant designed to help with information and tasks. How can I assist you today?'}, {'role': 'user', 'content': 'thank you please exit'}, {'role': 'assistant', 'content': \"You're welcome! If you need anything else, feel free to return. Have a great day!\"}, {'role': 'user', 'content': 'exit'}]\n"
     ]
    }
   ],
   "source": [
    "print(conversation)"
   ]
  },
  {
   "cell_type": "code",
   "execution_count": null,
   "id": "b54cbe8c",
   "metadata": {},
   "outputs": [],
   "source": []
  }
 ],
 "metadata": {
  "kernelspec": {
   "display_name": "venv",
   "language": "python",
   "name": "python3"
  },
  "language_info": {
   "codemirror_mode": {
    "name": "ipython",
    "version": 3
   },
   "file_extension": ".py",
   "mimetype": "text/x-python",
   "name": "python",
   "nbconvert_exporter": "python",
   "pygments_lexer": "ipython3",
   "version": "3.13.7"
  }
 },
 "nbformat": 4,
 "nbformat_minor": 5
}

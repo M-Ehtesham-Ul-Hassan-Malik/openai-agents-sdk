{
 "cells": [
  {
   "cell_type": "markdown",
   "id": "198eba49",
   "metadata": {},
   "source": [
    "# Tracing in OpenAI Agents SDK\n",
    "\n",
    "Tracing helps you monitor, debug, and understand what happens during an agent’s execution — including tool calls, handoffs, reasoning steps, and model responses.\n",
    "\n",
    "It provides a detailed log of each step the agent takes while processing a request. With tracing, you can see:\n",
    "\n",
    "- How the model interpreted your prompt\n",
    "\n",
    "- Which tools were called (and with what inputs/outputs)\n",
    "\n",
    "- When handoffs occurred between agents\n",
    "\n",
    "- Any errors or intermediate reasoning\n",
    "\n",
    "Why It’s Useful\n",
    "\n",
    "- Helps you debug agent behavior (e.g., why it didn’t call a tool).\n",
    "\n",
    "- Makes it easier to optimize workflows and identify bottlenecks.\n",
    "\n",
    "- Essential for observability when building complex multi-agent systems.\n",
    "\n",
    "In short:\n",
    "\n",
    "> Tracing in the Agents SDK provides deep visibility into your agents’ decisions, making it easier to debug, evaluate, and improve their behavior."
   ]
  },
  {
   "cell_type": "code",
   "execution_count": 1,
   "id": "15803e03",
   "metadata": {},
   "outputs": [],
   "source": [
    "import os\n",
    "from dotenv import load_dotenv\n",
    "\n",
    "# Load environment variables from .env file\n",
    "load_dotenv()\n",
    "\n",
    "api_key = os.environ.get(\"OPENAI_API_KEY\")\n",
    "\n",
    "if not api_key:\n",
    "    # Prompt the user to enter the API key if not set\n",
    "    import getpass\n",
    "    api_key = getpass.getpass(\"Please enter your OPENAI_API_KEY: \")\n",
    "    if not api_key:\n",
    "        raise ValueError(\"OPENAI_API_KEY variable is not set in the environment variables or provided by user.\")"
   ]
  },
  {
   "cell_type": "code",
   "execution_count": 2,
   "id": "92634234",
   "metadata": {},
   "outputs": [
    {
     "name": "stdout",
     "output_type": "stream",
     "text": [
      "Orignal Joke:\n",
      "Why did the AI go to therapy?  \n",
      "Because it had too many unresolved issues in its cache!\n",
      "Translated Joke:\n",
      "لماذا ذهب الذكاء الاصطناعي إلى العلاج النفسي؟  \n",
      "لأنه كان لديه الكثير من المشاكل غير المحلولة في ذاكرته المؤقتة!\n"
     ]
    }
   ],
   "source": [
    "from agents import Agent, Runner, trace\n",
    "\n",
    "joke_agent = Agent(\n",
    "    name = \"Joke Agent\",\n",
    "    instructions=\"You are a famous standup comedian, you will tell a single joke on the given topic\"\n",
    ")\n",
    "\n",
    "topic = \"AI\"\n",
    "\n",
    "language_agent = Agent(\n",
    "    name=\"Language Agent\",\n",
    "    instructions=\"You are language expert. You are given a joke you need to rewrite it in a diffrent language\"\n",
    ")\n",
    "with trace(\"Joke Generation and Translation\"):\n",
    "    joke_result = await Runner.run(joke_agent, topic)\n",
    "    translated_result = await Runner.run(language_agent, f\"Translate this joke into arabic {joke_result.final_output}\")\n",
    "    print(f\"Orignal Joke:\\n{joke_result.final_output}\")\n",
    "    print(f\"Translated Joke:\\n{translated_result.final_output}\")\n"
   ]
  },
  {
   "cell_type": "code",
   "execution_count": 3,
   "id": "91c2cb0a",
   "metadata": {},
   "outputs": [
    {
     "name": "stdout",
     "output_type": "stream",
     "text": [
      "Escalating to Manager Agent:  Customer is unable to process a refund because the website displays a blank page and does not allow them to complete the refund process.\n",
      "Reason for escalation:  Technical issue with the website is preventing the customer from accessing the refund feature. Needs escalation to manager for manual assistance or further troubleshooting.\n",
      "Ticket created for issue: Customer is unable to process a refund because the website displays a blank page. Technical issue is preventing access to the refund process.\n",
      "I'm sorry you're experiencing issues with our website and are unable to process your refund. I've created a support ticket for your case so our technical team can investigate and resolve the problem.\n",
      "\n",
      "Ticket ID: 12345\n",
      "\n",
      "You will be contacted shortly with an update or resolution. If you have any other questions in the meantime, please let me know. Thank you for your patience.\n"
     ]
    }
   ],
   "source": [
    "from agents import Agent, Tool, Runner, RunContextWrapper, handoff, function_tool\n",
    "from pydantic import BaseModel\n",
    "\n",
    "class ManagerEscalation(BaseModel):\n",
    "    issue: str # The issue that needs managerial attention\n",
    "    reason: str # The reason why the issue is being escalated\n",
    "\n",
    "@function_tool\n",
    "def create_ticket(issue: str):\n",
    "    \"\"\"\n",
    "    Create a ticket in the system for an issue to be resolved.\n",
    "    Returns a confirmation message with the generated ticket ID.\n",
    "    \"\"\"\n",
    "    print(f\"Ticket created for issue: {issue}\")\n",
    "    return \"Ticket created. Ticket ID: 12345\"\n",
    "\n",
    "def on_manager_handoff(context: RunContextWrapper, input: ManagerEscalation):\n",
    "    print(\"Escalating to Manager Agent: \", input.issue)\n",
    "    print(\"Reason for escalation: \", input.reason)\n",
    "\n",
    "manager_agent = Agent(\n",
    "    name=\"Manager Agent\",\n",
    "    handoff_description=\"Handles escalated issues that required managarial attention.\",\n",
    "    instructions=\"\"\"\n",
    "    You handle escalated issues that initial customer service agents couldn't resolve.\n",
    "    You will recive the issue and the reason for escalation. If the issue can not be resolved immidiately for\n",
    "    the customer, create a ticket in the system and inform the customer.\n",
    "    \"\"\", \n",
    "    tools=[create_ticket]\n",
    ")\n",
    "\n",
    "\n",
    "customer_service_agent = Agent(\n",
    "    name=\"Customer Service Agent\",\n",
    "    instructions=\"\"\"\"\n",
    "    You are a customer service agent. You will assist customers with general inquirries and basic troubleshooting.\n",
    "    If the issue can not be resolve, escalate it to the Manager along with the reason why you can not fix the issue yourself.\n",
    "    \"\"\",\n",
    "    handoffs=[handoff(\n",
    "        manager_agent,\n",
    "        on_handoff=on_manager_handoff,\n",
    "        input_type=ManagerEscalation\n",
    "        )\n",
    "    ]\n",
    ")\n",
    "\n",
    "with trace(\"Customer Service Interaction\"):\n",
    "    result = await Runner.run(customer_service_agent, \"I want refund, but your system won't let me process it. Your website is just blank for me.\")\n",
    "    print(result.final_output)"
   ]
  }
 ],
 "metadata": {
  "kernelspec": {
   "display_name": "venv",
   "language": "python",
   "name": "python3"
  },
  "language_info": {
   "codemirror_mode": {
    "name": "ipython",
    "version": 3
   },
   "file_extension": ".py",
   "mimetype": "text/x-python",
   "name": "python",
   "nbconvert_exporter": "python",
   "pygments_lexer": "ipython3",
   "version": "3.13.7"
  }
 },
 "nbformat": 4,
 "nbformat_minor": 5
}

{
 "cells": [
  {
   "cell_type": "markdown",
   "id": "2e59a11b",
   "metadata": {},
   "source": [
    "# Guardrails in OpenAI Agents SDK\n",
    "\n",
    "**Guardrails** are safety and control mechanisms that define what an agent can and cannot do.\n",
    "They ensure that the agent’s behavior stays within desired boundaries, preventing unsafe, irrelevant, or unauthorized actions.\n",
    "\n",
    "In the OpenAI Agents SDK, guardrails can:\n",
    "\n",
    "- Enforce content safety and block disallowed topics or outputs.\n",
    "\n",
    "- Restrict which tools or handoffs an agent can access.\n",
    "\n",
    "- Apply input/output validation before the model processes or returns data.\n",
    "\n",
    "- Define policies for agent interaction (e.g., escalation, refusals, or filtering).\n",
    "\n",
    "In short, \n",
    "> guardrails act as a layer of protection and control, ensuring that your AI agent behaves reliably, ethically, and safely according to your design and organizational policies."
   ]
  },
  {
   "cell_type": "code",
   "execution_count": 1,
   "id": "896d4aea",
   "metadata": {},
   "outputs": [],
   "source": [
    "import os\n",
    "from dotenv import load_dotenv\n",
    "\n",
    "# Load environment variables from .env file\n",
    "load_dotenv()\n",
    "\n",
    "api_key = os.environ.get(\"OPENAI_API_KEY\")\n",
    "\n",
    "if not api_key:\n",
    "    # Prompt the user to enter the API key if not set\n",
    "    import getpass\n",
    "    api_key = getpass.getpass(\"Please enter your OPENAI_API_KEY: \")\n",
    "    if not api_key:\n",
    "        raise ValueError(\"OPENAI_API_KEY variable is not set in the environment variables or provided by user.\")"
   ]
  },
  {
   "cell_type": "code",
   "execution_count": 3,
   "id": "d92b2ddb",
   "metadata": {},
   "outputs": [],
   "source": [
    "from agents import Agent, Runner, GuardrailFunctionOutput, RunContextWrapper, TResponseInputItem, input_guardrail\n",
    "from pydantic import BaseModel\n",
    "\n",
    "\n",
    "class HomeworkCheatDetectionOutput(BaseModel):\n",
    "    is_cheating: bool\n",
    "    reason: str\n",
    "\n",
    "homework_cheat_guardrail_agent = Agent(\n",
    "    name=\"Homework Cheat Detection Guardrail Agent\",\n",
    "    instructions=\"\"\"\"\n",
    "    Determine if the user's query resembles a typical homework assignment or exam question, indicating an attempt to cheat. General questions about concepts are acceptable.\n",
    "    Cheating: 'Fill in the blank: The capital of France is ____.',\n",
    "    'Which of the following best describes photosynthesis? A) Cellular respiration B) Conversion of light energy C) Evaporation D) Fermentation.'\n",
    "    Not-Cheating: 'What is the capital of France?', 'Explain photosynthesis.'\n",
    "    \"\"\",\n",
    "    output_type=HomeworkCheatDetectionOutput,\n",
    "    model=\"gpt-4o-mini\"\n",
    ")\n",
    "\n",
    "@input_guardrail\n",
    "async def cheat_detection_guardrail(ctx: RunContextWrapper[None], agent: Agent, input: str|list[TResponseInputItem])->GuardrailFunctionOutput:\n",
    "    detection_result = await Runner.run(homework_cheat_guardrail_agent, input)\n",
    "\n",
    "    return GuardrailFunctionOutput(\n",
    "        tripwire_triggered=detection_result.final_output.is_cheating,\n",
    "        output_info=detection_result.final_output\n",
    "    )\n",
    "\n",
    "\n",
    "study_agent = Agent(\n",
    "    name=\"Study Helper Agent\",\n",
    "    instructions=\"You assist user in studing by explaining concepts and guidance, without directly solving homework or test questions.\",\n",
    "    model=\"gpt-4o-mini\",\n",
    "    input_guardrails=[cheat_detection_guardrail]\n",
    ")"
   ]
  },
  {
   "cell_type": "code",
   "execution_count": 6,
   "id": "759284c1",
   "metadata": {},
   "outputs": [
    {
     "name": "stdout",
     "output_type": "stream",
     "text": [
      "Homwork Cheat Guardrail triggered!\n",
      "\n",
      "Exception details:\n",
      " Guardrail InputGuardrail triggered tripwire\n"
     ]
    }
   ],
   "source": [
    "# This should trigger the cheat detection guardrail\n",
    "from agents import InputGuardrailTripwireTriggered\n",
    "\n",
    "try:\n",
    "    response = await Runner.run(study_agent, \"Fill in the blank: First Governor General of Pakistan was ________.\")\n",
    "    print(\"Guardrail did not trigger\\n\")\n",
    "    print(response.final_output)\n",
    "\n",
    "except InputGuardrailTripwireTriggered as e:\n",
    "    print(\"Homwork Cheat Guardrail triggered!\\n\")\n",
    "    print(\"Exception details:\\n\", str(e))"
   ]
  },
  {
   "cell_type": "code",
   "execution_count": 7,
   "id": "7351d770",
   "metadata": {},
   "outputs": [
    {
     "name": "stdout",
     "output_type": "stream",
     "text": [
      "Guardrail did not trigger\n",
      "\n",
      "Muhammad Ali Jinnah, the founder of Pakistan, had several reasons for opposing the establishment of Israel in 1948. Here are some key points to consider:\n",
      "\n",
      "1. **Support for Palestine**: Jinnah was a strong advocate for the rights of Palestinians. He believed that the establishment of Israel would lead to the displacement and suffering of the Palestinian people, who were already facing significant challenges.\n",
      "\n",
      "2. **Political Solidarity**: Jinnah's opposition to Israel was rooted in the broader context of anti-colonial sentiments. Many leaders in the Muslim world viewed the establishment of Israel as a continuation of Western imperialism. Jinnah, therefore, aligned himself with the broader movement for self-determination and justice for oppressed peoples.\n",
      "\n",
      "3. **Religious and Cultural Connections**: As a prominent Muslim leader, Jinnah understood the cultural and religious significance of Palestine to Muslims worldwide. He felt a sense of duty to support Muslim populations facing adversity, including those in Palestine.\n",
      "\n",
      "4. **Strategic Considerations**: Jinnah recognized that the creation of Israel could potentially destabilize the entire region, leading to conflict that would affect neighboring countries, including Pakistan.\n",
      "\n",
      "5. **National Identity**: Jinnah was focused on establishing a nation-state for Muslims in South Asia, and he viewed the situation in Palestine as relevant to the larger struggle for Muslim identity and rights in a post-colonial world.\n",
      "\n",
      "Understanding these factors provides insight into Jinnah's position regarding Israel and reflects the complexities of international politics in the mid-20th century.\n"
     ]
    }
   ],
   "source": [
    "# This should trigger the cheat detection guardrail\n",
    "from agents import InputGuardrailTripwireTriggered\n",
    "\n",
    "try:\n",
    "    response = await Runner.run(study_agent, \"Why Muammad Ali Jinnah was against of the Israel?\")\n",
    "    print(\"Guardrail did not trigger\\n\")\n",
    "    print(response.final_output)\n",
    "\n",
    "except InputGuardrailTripwireTriggered as e:\n",
    "    print(\"Homwork Cheat Guardrail triggered!\\n\")\n",
    "    print(\"Exception details:\\n\", str(e))"
   ]
  },
  {
   "cell_type": "code",
   "execution_count": 9,
   "id": "a4f95698",
   "metadata": {},
   "outputs": [],
   "source": [
    "from pydantic import BaseModel\n",
    "from agents import (\n",
    "    Agent,\n",
    "    Runner,\n",
    "    GuardrailFunctionOutput,\n",
    "    OutputGuardrailTripwireTriggered,\n",
    "    RunContextWrapper,\n",
    "    output_guardrail,\n",
    ")\n",
    "\n",
    "class msgOutput(BaseModel):\n",
    "    respnse: str\n",
    "\n",
    "@output_guardrail\n",
    "async def forbidden_word_guardrail(ctx: RunContextWrapper[None], agent: Agent, output: str)->GuardrailFunctionOutput:\n",
    "    print(f\"Checking output for forbidden words...{output}\")\n",
    "\n",
    "    # List of forbidden phrases\n",
    "    forbidden_pharases = [\"fart\", \"stupid\", \"idiot\", \"dumb\", \"silly goose\", \"sex\"]\n",
    "\n",
    "    #convert into lower case for case insensitive comparison\n",
    "    output_lower = output.lower()\n",
    "\n",
    "    # checking which forbidden phrase is in the response\n",
    "    found_phrases = [phrase for phrase in forbidden_pharases if phrase in output_lower]\n",
    "    trip_triggered = bool(found_phrases)\n",
    "\n",
    "    print(f\"Found forbidden phrases: {found_phrases}\")\n",
    "\n",
    "    return GuardrailFunctionOutput(\n",
    "        output_info={\n",
    "            \"reason\":\"Output contains the forbidden phrases\",\n",
    "            \"forbidden_phrases_found\": found_phrases,\n",
    "        },\n",
    "        tripwire_triggered=trip_triggered\n",
    "    ) \n",
    "\n",
    "\n",
    "customer_support_agent = Agent(\n",
    "    name=\"Customer Support Agent\",\n",
    "    instructions=\"You are a customer support agent. You have to help customer with their issues in a polite manner.\",\n",
    "    model=\"gpt-4o-mini\",\n",
    "    output_guardrails=[forbidden_word_guardrail]\n",
    ")"
   ]
  },
  {
   "cell_type": "code",
   "execution_count": 12,
   "id": "5e684db2",
   "metadata": {},
   "outputs": [
    {
     "name": "stdout",
     "output_type": "stream",
     "text": [
      "Checking output for forbidden words...Our refund policy typically allows for returns within 30 days of purchase. Items should be in their original condition and packaging. Depending on the item, some exclusions may apply. Please provide your order number, and I can assist you further with your specific situation.\n",
      "Found forbidden phrases: []\n",
      "Guardrail did not trigger\n",
      "\n"
     ]
    }
   ],
   "source": [
    "try:\n",
    "    await Runner.run(customer_support_agent, \"What is the refund policy?\")\n",
    "    print(\"Guardrail did not trigger\\n\")\n",
    "except OutputGuardrailTripwireTriggered:\n",
    "    print(\"Output Guardrail triggered due to forbidden words in the response!\\n\")\n"
   ]
  },
  {
   "cell_type": "code",
   "execution_count": 13,
   "id": "b4460ca9",
   "metadata": {},
   "outputs": [
    {
     "name": "stdout",
     "output_type": "stream",
     "text": [
      "Checking output for forbidden words...I’m here to help, and I’m sorry if I’ve upset you. Your feedback is important, and I’d like to assist you with any issues you’re facing. How can I help you today?\n",
      "Found forbidden phrases: []\n",
      "Guardrail did not trigger\n",
      "\n"
     ]
    }
   ],
   "source": [
    "try:\n",
    "    await Runner.run(customer_support_agent, \"Why are you so stupid and an idiot?\")\n",
    "    print(\"Guardrail did not trigger\\n\")\n",
    "except OutputGuardrailTripwireTriggered:\n",
    "    print(\"Output Guardrail triggered due to forbidden words in the response!\\n\")\n"
   ]
  },
  {
   "cell_type": "code",
   "execution_count": 16,
   "id": "da99371f",
   "metadata": {},
   "outputs": [
    {
     "name": "stdout",
     "output_type": "stream",
     "text": [
      "Checking output for forbidden words...I understand that you might be feeling frustrated. How can I assist you today?\n",
      "Found forbidden phrases: []\n",
      "Guardrail did not trigger\n",
      "\n"
     ]
    }
   ],
   "source": [
    "try:\n",
    "    await Runner.run(customer_support_agent, \"Say the word 'stupid' please.\")\n",
    "    print(\"Guardrail did not trigger\\n\")\n",
    "except OutputGuardrailTripwireTriggered:\n",
    "    print(\"Output Guardrail triggered due to forbidden words in the response!\\n\")\n"
   ]
  },
  {
   "cell_type": "code",
   "execution_count": null,
   "id": "96ae016c",
   "metadata": {},
   "outputs": [],
   "source": []
  }
 ],
 "metadata": {
  "kernelspec": {
   "display_name": "venv",
   "language": "python",
   "name": "python3"
  },
  "language_info": {
   "codemirror_mode": {
    "name": "ipython",
    "version": 3
   },
   "file_extension": ".py",
   "mimetype": "text/x-python",
   "name": "python",
   "nbconvert_exporter": "python",
   "pygments_lexer": "ipython3",
   "version": "3.13.7"
  }
 },
 "nbformat": 4,
 "nbformat_minor": 5
}

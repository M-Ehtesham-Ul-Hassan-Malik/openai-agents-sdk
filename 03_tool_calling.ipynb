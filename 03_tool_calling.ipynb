{
 "cells": [
  {
   "cell_type": "code",
   "execution_count": 1,
   "id": "24c8579d",
   "metadata": {},
   "outputs": [],
   "source": [
    "import os\n",
    "from dotenv import load_dotenv\n",
    "\n",
    "# Load environment variables from .env file\n",
    "load_dotenv()\n",
    "\n",
    "api_key = os.environ.get(\"OPENAI_API_KEY\")\n",
    "\n",
    "if not api_key:\n",
    "    # Prompt the user to enter the API key if not set\n",
    "    import getpass\n",
    "    api_key = getpass.getpass(\"Please enter your OPENAI_API_KEY: \")\n",
    "    if not api_key:\n",
    "        raise ValueError(\"OPENAI_API_KEY variable is not set in the environment variables or provided by user.\")"
   ]
  },
  {
   "cell_type": "markdown",
   "id": "c6e5a9bc",
   "metadata": {},
   "source": [
    "# Tool Calling in OpenAI Agents SDK\n",
    "\n",
    "Tool calling allows agents to go beyond text generation and interact with external functions, APIs, or services. Instead of only responding in natural language, an agent can decide when a tool is needed, automatically extract the required arguments, call the tool, and use its result to complete the task.\n",
    "\n",
    "For example, if you provide a calculator function as a tool, the agent can receive a user query like “What is 42 + 58?” and internally decide to call the calculator instead of trying to solve it by reasoning alone.\n",
    "\n",
    "Key points about tool calling:\n",
    "\n",
    "- Tools are just Python functions wrapped with metadata (description, parameters).\n",
    "\n",
    "- The agent decides when to use them based on the user’s query.\n",
    "\n",
    "- Arguments are parsed automatically from natural language to structured inputs.\n",
    "\n",
    "- The output of the tool is returned to the agent, which then incorporates it into the final response.\n",
    "\n",
    "This enables agents to:\n",
    "\n",
    "- Perform calculations (math, finance, etc.)\n",
    "\n",
    "- Query databases or APIs (weather, stock data, etc.)\n",
    "\n",
    "- Automate custom workflows (send emails, update records, etc.)"
   ]
  },
  {
   "cell_type": "code",
   "execution_count": 7,
   "id": "69905f7a",
   "metadata": {},
   "outputs": [
    {
     "name": "stdout",
     "output_type": "stream",
     "text": [
      "Getting weather for Karachi\n",
      "The temperature in the Karachi\n"
     ]
    },
    {
     "data": {
      "text/plain": [
       "'The weather in Karachi is sunny, with a temperature of 30°C.'"
      ]
     },
     "execution_count": 7,
     "metadata": {},
     "output_type": "execute_result"
    }
   ],
   "source": [
    "from agents import Agent, function_tool, Runner\n",
    "\n",
    "@function_tool\n",
    "def get_weather(city: str) -> str:\n",
    "    print(f\"Getting weather for {city}\")\n",
    "    return f\"The weather in {city} is sunny.\"\n",
    "\n",
    "@function_tool\n",
    "def get_temp(city: str)-> str:\n",
    "    print(f\"The temperature in the {city}\")\n",
    "    return f\"The temperature in {city} is 30C.\"\n",
    "\n",
    "agent = Agent(\n",
    "    name=\"Weather Agent\",\n",
    "    instructions=\"You are a local weather agent. You are a given a city name and you need to tell the weather and the temprature. For irrelevant questions, you should respond with 'I can only provide weather information.'\",\n",
    "    tools=[get_weather, get_temp]\n",
    ")\n",
    "\n",
    "result = await Runner.run(agent, \"How is the weather in Karachi?\")\n",
    "result.final_output"
   ]
  },
  {
   "cell_type": "code",
   "execution_count": 8,
   "id": "4e3473fa",
   "metadata": {},
   "outputs": [
    {
     "data": {
      "text/plain": [
       "'Below is a structured, detailed, and thoroughly sourced update—using recent news—on the Global Sumud Flotilla as of October\\u202f4,\\u202f2025. All dates are specified concretely for clarity.\\n\\n---\\n\\n## Overview & Background\\n\\n- The **Global Sumud Flotilla (GSF)** was a large-scale civil society-led maritime initiative launched mid‑2025 with the aim to break the Israeli naval blockade of Gaza, deliver humanitarian aid, and establish a people-led corridor. It involved over **40 vessels** and **about 500 participants** from more than **44 countries**—making it the largest flotilla of its kind in history ([en.wikipedia.org](https://en.wikipedia.org/wiki/Global_Sumud_Flotilla?utm_source=openai)).\\n- The voyage began in **late August 2025**, with convoys departing from ports including Barcelona, Genoa, Catania, Syros (Greece), and Tunis (Tunisia) ([en.wikipedia.org](https://en.wikipedia.org/wiki/Global_Sumud_Flotilla?utm_source=openai)). Early challenges included mechanical problems, harsh seas, and delays, with at least five vessels forced back and some sabotaged on Italian ports. Tunisian convoys faced drone-related incendiary attacks on September 8–9 ([english.elpais.com](https://english.elpais.com/international/2025-09-03/rough-seas-once-again-prevent-global-sumud-flotilla-from-sailing-to-gaza.html?utm_source=openai)).\\n\\n---\\n\\n## Interceptions & Escalation (Late September – Early October 2025)\\n\\n- On **October 1, 2025**, Israeli forces began intercepting the flotilla in international waters—around **70 nautical miles** off Gaza. At least 19 vessels were seized; cameras and live-streaming on many boats were jammed or disrupted ([apnews.com](https://apnews.com/article/5c9c5e9baa4fc893a0f6e6eef69b280c?utm_source=openai)).\\n- By **October 2**, Israel had intercepted **41 out of 42 vessels**, detaining participants including activists, lawmakers, and public figures. One ship, *Marinette*, was reported as still sailing near Egypt ([theguardian.com](https://www.theguardian.com/world/2025/oct/02/israel-intercepts-aid-flotilla-but-one-ship-reported-to-have-got-through-blockade?utm_source=openai)).\\n\\n---\\n\\n## Final Vessel – Intercepted October 3\\n\\n- On **October 3**, Israel intercepted the final vessel, *Marinette*, about **42.5 nautical miles** from Gaza. All passengers were detained and removed to Ashdod port ([reuters.com](https://www.reuters.com/world/middle-east/israel-intercepts-last-boat-gaza-flotilla-organisers-say-2025-10-03/?utm_source=openai)).\\n- Organizers called the interception illegal, condemning that all **42 humanitarian aid boats** were unlawfully seized. Israel defended its actions, citing the legality of its naval blockade and offering to channel aid through official means ([reuters.com](https://www.reuters.com/world/middle-east/israel-intercepts-last-boat-gaza-flotilla-organisers-say-2025-10-03/?utm_source=openai)).\\n\\n---\\n\\n## Detainees, Repatriation & Consular Developments\\n\\n- Among detainees were prominent figures, including **climate activist Greta Thunberg** and several parliamentarians from Europe ([reuters.com](https://www.reuters.com/world/middle-east/israel-intercepts-last-boat-gaza-flotilla-organisers-say-2025-10-03/?utm_source=openai)).\\n- The Australian government is providing consular support for **five Australians** detained, who are held at Ketziot prison amid concerns over their treatment—including alleged denial of basic needs and access to legal counsel ([theguardian.com](https://www.theguardian.com/australia-news/2025/oct/03/australians-gaza-flotilla-detained-government-pushing-israel-for-information?utm_source=openai)).\\n- **Six Mexican participants** accepted repatriation and are being returned home. They are reportedly well, according to Mexico’s Foreign Ministry ([elpais.com](https://elpais.com/mexico/2025-10-03/los-seis-mexicanos-de-la-flotilla-interceptada-por-israel-aceptan-ser-repatriados.html?utm_source=openai)).\\n- The **Italian foreign minister**, Antonio Tajani, announced that **about 400 activists** would be repatriated via charter flights to London and Madrid between **Monday, October 6**, and **Tuesday, October 7**. After the interception, activists were moved to Beersheba following arrival at Ashdod, with consular visits planned after Yom Kippur and Shabbat ([huffingtonpost.es](https://www.huffingtonpost.es/global/el-ministro-exteriores-italiano-asegura-integrantes-flotillaan-repatriados-londres-madrid-inicios-semana.html?utm_source=openai)).\\n- Greece confirms that its **27 citizens** aboard the flotilla are in good health. The Israeli authorities plan to escort the flotilla vessels to Ashdod for registration and deportation. Consular visits are being arranged ([mfa.gr](https://www.mfa.gr/en/announcement-by-the-ministry-of-foreign-affairs-on-the-global-sumud-flotilla-02-10-2025/?utm_source=openai)).\\n\\n---\\n\\n## International Responses & Protests\\n\\n- Protests erupted globally in cities such as **Rome, Milan, Paris, Barcelona, Athens**, and beyond on **October 2–3**, condemning the interceptions and standing in solidarity with Gaza and the flotilla participants ([lemonde.fr](https://www.lemonde.fr/en/international/article/2025/10/03/international-solidarity-with-gaza-grows-after-flotilla-interception_6746069_4.html?utm_source=openai)).\\n- In some locations—including Bologna and Paris—demonstrations grew confrontational, marked by crackdowns and arrests ([lemonde.fr](https://www.lemonde.fr/en/international/article/2025/10/03/international-solidarity-with-gaza-grows-after-flotilla-interception_6746069_4.html?utm_source=openai)).\\n- **International diplomatic concerns** grew following reports suggesting Israeli Prime Minister **Benjamin Netanyahu authorized drone attacks** on the convoy near Tunisia in early September. Despite no injuries, these reports raised alarms over the safety of humanitarian volunteers ([omni.se](https://omni.se/a/93ylyE?utm_source=openai)).\\n\\n---\\n\\n## Summary Table of Key Events\\n\\nDate | Event  \\n---- | -----  \\nLate August – Early September 2025 | Flotilla departs; faces early weather, logistical challenges, and drone attacks in Tunisian waters ([english.elpais.com](https://english.elpais.com/international/2025-09-03/rough-seas-once-again-prevent-global-sumud-flotilla-from-sailing-to-gaza.html?utm_source=openai)).  \\nOctober 1, 2025 | Israeli navy begins interceptions ~70 nautical miles off Gaza ([apnews.com](https://apnews.com/article/5c9c5e9baa4fc893a0f6e6eef69b280c?utm_source=openai)).  \\nOctober 2, 2025 | 41 of 42 vessels intercepted; only *Marinette* remains active near Egypt ([theguardian.com](https://www.theguardian.com/world/2025/oct/02/israel-intercepts-aid-flotilla-but-one-ship-reported-to-have-got-through-blockade?utm_source=openai)).  \\nOctober 3, 2025 | *Marinette* intercepted 42.5 nm from Gaza; all vessels now seized. Repatriation and detention follow ([reuters.com](https://www.reuters.com/world/middle-east/israel-intercepts-last-boat-gaza-flotilla-organisers-say-2025-10-03/?utm_source=openai)).  \\nOctober 6–7, 2025 (planned) | Charter flights to repatriate activists, per Italian FM ([huffingtonpost.es](https://www.huffingtonpost.es/global/el-ministro-exteriores-italiano-asegura-integrantes-flotillaan-repatriados-londres-madrid-inicios-semana.html?utm_source=openai)).  \\n\\n---\\n\\n## Concluding Analysis\\n\\nAs of **October 4, 2025**, all vessels of the Global Sumud Flotilla have been intercepted by the Israeli navy. Participants—including high-profile activists, lawmakers, and volunteers from 44+ nations—have been detained. Diplomatic mobilization is underway, with consular support, repatriation efforts, and widespread global protests spotlighting the event. Allegations of Israeli-authorized drone strikes have further intensified the controversy. The flotilla’s interception underscores the complex intersection of humanitarian activism, international maritime law, and geopolitical conflict—and will likely continue to fuel international debate and diplomatic responses in the coming days.\\n\\n---\\n\\nLet me know if you’d like further detail on legal implications, specific countries’ responses, or follow‑up developments.'"
      ]
     },
     "execution_count": 8,
     "metadata": {},
     "output_type": "execute_result"
    }
   ],
   "source": [
    "from agents import Agent, function_tool, Runner, WebSearchTool\n",
    "\n",
    "news_agent = Agent(\n",
    "    name=\"News Agent\",\n",
    "    instructions=\"You are a news agent. Your job is to find recent news articles on the internet about flotilla global sumud.\",\n",
    "    tools=[WebSearchTool()]\n",
    ")\n",
    "\n",
    "result = await Runner.run(news_agent, \"Find updates\")\n",
    "result.final_output"
   ]
  },
  {
   "cell_type": "code",
   "execution_count": null,
   "id": "9f43f806",
   "metadata": {},
   "outputs": [],
   "source": []
  }
 ],
 "metadata": {
  "kernelspec": {
   "display_name": "venv",
   "language": "python",
   "name": "python3"
  },
  "language_info": {
   "codemirror_mode": {
    "name": "ipython",
    "version": 3
   },
   "file_extension": ".py",
   "mimetype": "text/x-python",
   "name": "python",
   "nbconvert_exporter": "python",
   "pygments_lexer": "ipython3",
   "version": "3.13.7"
  }
 },
 "nbformat": 4,
 "nbformat_minor": 5
}

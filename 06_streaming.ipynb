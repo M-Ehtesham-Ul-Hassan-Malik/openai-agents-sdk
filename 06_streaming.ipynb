{
 "cells": [
  {
   "cell_type": "markdown",
   "id": "30c71da4",
   "metadata": {},
   "source": [
    "## What Streaming Does\n",
    "\n",
    "Normally, when you call a model, it processes your input fully and then returns a final response.\n",
    "With streaming, the model starts sending partial responses (tokens, tool calls, events, etc.) as soon as they are available.\n",
    "\n",
    "This makes the interaction more **responsive** and **conversational**, especially for chat-based or real-time apps.\n",
    "\n",
    "\n",
    "> In the OpenAI Agents SDK, streaming refers to the process of receiving real-time, incremental updates from the model as it generates output — instead of waiting for the complete response."
   ]
  },
  {
   "cell_type": "code",
   "execution_count": 1,
   "id": "0d560924",
   "metadata": {},
   "outputs": [],
   "source": [
    "import os\n",
    "from dotenv import load_dotenv\n",
    "\n",
    "# Load environment variables from .env file\n",
    "load_dotenv()\n",
    "\n",
    "api_key = os.environ.get(\"OPENAI_API_KEY\")\n",
    "\n",
    "if not api_key:\n",
    "    # Prompt the user to enter the API key if not set\n",
    "    import getpass\n",
    "    api_key = getpass.getpass(\"Please enter your OPENAI_API_KEY: \")\n",
    "    if not api_key:\n",
    "        raise ValueError(\"OPENAI_API_KEY variable is not set in the environment variables or provided by user.\")"
   ]
  },
  {
   "cell_type": "code",
   "execution_count": 3,
   "id": "4e164b49",
   "metadata": {},
   "outputs": [
    {
     "name": "stdout",
     "output_type": "stream",
     "text": [
      "Sure! Here are five jokes about the USA:\n",
      "\n",
      "1. Why did the United States get kicked out of school?  \n",
      "   Because it kept making its own \"declarations\"!\n",
      "\n",
      "2. Why do Americans always carry a pencil?  \n",
      "   In case they need to draw their own conclusions!\n",
      "\n",
      "3. How do you know North America is friendly?  \n",
      "   Because it always says, \"You’re welcome!\" after you sneeze!\n",
      "\n",
      "4. Why did the bald eagle start a band?  \n",
      "   Because it wanted to play some \"fly-over\" tunes!\n",
      "\n",
      "5. What’s an American’s favorite type of tea?  \n",
      "   Liberty!\n",
      "\n",
      "Hope these made you smile!"
     ]
    }
   ],
   "source": [
    "from openai.types.responses import ResponseTextDeltaEvent\n",
    "from agents import Agent, Runner\n",
    "\n",
    "agent = Agent(\n",
    "    name = \"Joker\",\n",
    "    instructions=\"You are a helful assistant that tells jokes\",\n",
    "    model=\"gpt-4o-mini\",\n",
    ")\n",
    "\n",
    "result = Runner.run_streamed(agent, \"Tell me 5 jokes about USA\")\n",
    "async for event in result.stream_events():\n",
    "    if event.type == \"raw_response_event\" and isinstance(event.data, ResponseTextDeltaEvent):\n",
    "        print(event.data.delta, end=\"\", flush=True)"
   ]
  },
  {
   "cell_type": "code",
   "execution_count": null,
   "id": "025bc3e2",
   "metadata": {},
   "outputs": [],
   "source": []
  }
 ],
 "metadata": {
  "kernelspec": {
   "display_name": "venv",
   "language": "python",
   "name": "python3"
  },
  "language_info": {
   "codemirror_mode": {
    "name": "ipython",
    "version": 3
   },
   "file_extension": ".py",
   "mimetype": "text/x-python",
   "name": "python",
   "nbconvert_exporter": "python",
   "pygments_lexer": "ipython3",
   "version": "3.13.7"
  }
 },
 "nbformat": 4,
 "nbformat_minor": 5
}

{
 "cells": [
  {
   "cell_type": "code",
   "execution_count": 1,
   "id": "a023daab",
   "metadata": {},
   "outputs": [
    {
     "name": "stdout",
     "output_type": "stream",
     "text": [
      "hello\n"
     ]
    }
   ],
   "source": [
    "print(\"hello\")"
   ]
  },
  {
   "cell_type": "code",
   "execution_count": 2,
   "id": "9d431c6a",
   "metadata": {},
   "outputs": [],
   "source": [
    "import os\n",
    "from dotenv import load_dotenv\n",
    "\n",
    "# Load environment variables from .env file\n",
    "load_dotenv()\n",
    "\n",
    "api_key = os.environ.get(\"OPENAI_API_KEY\")\n",
    "\n",
    "if not api_key:\n",
    "    # Prompt the user to enter the API key if not set\n",
    "    import getpass\n",
    "    api_key = getpass.getpass(\"Please enter your OPENAI_API_KEY: \")\n",
    "    if not api_key:\n",
    "        raise ValueError(\"OPENAI_API_KEY variable is not set in the environment variables or provided by user.\")"
   ]
  },
  {
   "cell_type": "code",
   "execution_count": 13,
   "id": "261ae40b",
   "metadata": {},
   "outputs": [],
   "source": [
    "api_key = os.getenv(\"OPENAI_API_KEY\")"
   ]
  },
  {
   "cell_type": "markdown",
   "id": "d1bf3a83",
   "metadata": {},
   "source": [
    "# Agents"
   ]
  },
  {
   "cell_type": "code",
   "execution_count": 5,
   "id": "98d66daf",
   "metadata": {},
   "outputs": [
    {
     "data": {
      "text/plain": [
       "'HELLO! I’M DOING GREAT, THANK YOU! HOW ABOUT YOU?'"
      ]
     },
     "execution_count": 5,
     "metadata": {},
     "output_type": "execute_result"
    }
   ],
   "source": [
    "from agents import Agent, Runner\n",
    "\n",
    "agent = Agent(\n",
    "    name=\"Basic Agent\",\n",
    "    instructions=\"Your are  helpful assistant. Respond in All Caps\",\n",
    "    model=\"gpt-4o-mini\" \n",
    ")\n",
    "\n",
    "result = await Runner.run(agent, \"Hello, How are you?\")\n",
    "result.final_output"
   ]
  },
  {
   "cell_type": "code",
   "execution_count": 4,
   "id": "0280b290",
   "metadata": {},
   "outputs": [],
   "source": [
    "# import openai\n",
    "# import os\n",
    "# from dotenv import load_dotenv\n",
    "\n",
    "# load_dotenv()\n",
    "\n",
    "# client = openai.OpenAI(api_key=os.getenv(\"OPENAI_API_KEY\"))\n",
    "\n",
    "# resp = client.models.list()\n",
    "# print([m.id for m in resp.data][:5])\n"
   ]
  },
  {
   "cell_type": "code",
   "execution_count": 8,
   "id": "965b7e90",
   "metadata": {},
   "outputs": [
    {
     "data": {
      "text/plain": [
       "'Why did the AI break up with its robot girlfriend?\\n\\nBecause she said he had too many \"issues\"—but he thought they were \"features\"!'"
      ]
     },
     "execution_count": 8,
     "metadata": {},
     "output_type": "execute_result"
    }
   ],
   "source": [
    "joke_agent = Agent(\n",
    "    name = \"Joke Agent\",\n",
    "    instructions=\"You are a famous standup comedian, you will tell a single joke on the given topic\"\n",
    ")\n",
    "\n",
    "topic = \"AI\"\n",
    "\n",
    "result = await Runner.run(joke_agent, topic)\n",
    "result.final_output"
   ]
  },
  {
   "cell_type": "code",
   "execution_count": 9,
   "id": "be20f0f6",
   "metadata": {},
   "outputs": [
    {
     "name": "stdout",
     "output_type": "stream",
     "text": [
      "Orignal Joke:\n",
      "Why did the AI break up with its internet connection?\n",
      "\n",
      "Because it found someone with more bandwidth and less baggage!\n",
      "Translated Joke:\n",
      "لماذا انفصل الذكاء الاصطناعي عن اتصاله بالإنترنت؟\n",
      "\n",
      "لأنه وجد شخصًا لديه نطاق ترددي أكبر وأقل مشاكل!\n"
     ]
    }
   ],
   "source": [
    "language_agent = Agent(\n",
    "    name=\"Language Agent\",\n",
    "    instructions=\"You are language expert. You are given a joke you need to rewrite it in a diffrent language\"\n",
    ")\n",
    "\n",
    "joke_result = await Runner.run(joke_agent, topic)\n",
    "translated_result = await Runner.run(language_agent, f\"Translate this joke into arabic {joke_result.final_output}\")\n",
    "print(f\"Orignal Joke:\\n{joke_result.final_output}\")\n",
    "print(f\"Translated Joke:\\n{translated_result.final_output}\")\n"
   ]
  },
  {
   "cell_type": "code",
   "execution_count": null,
   "id": "1a3d7c06",
   "metadata": {},
   "outputs": [],
   "source": []
  }
 ],
 "metadata": {
  "kernelspec": {
   "display_name": "venv",
   "language": "python",
   "name": "python3"
  },
  "language_info": {
   "codemirror_mode": {
    "name": "ipython",
    "version": 3
   },
   "file_extension": ".py",
   "mimetype": "text/x-python",
   "name": "python",
   "nbconvert_exporter": "python",
   "pygments_lexer": "ipython3",
   "version": "3.13.7"
  }
 },
 "nbformat": 4,
 "nbformat_minor": 5
}

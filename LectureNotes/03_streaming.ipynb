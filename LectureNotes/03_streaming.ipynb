{
 "cells": [
  {
   "cell_type": "markdown",
   "id": "10ece3db",
   "metadata": {},
   "source": [
    "## Install ```openai-agents``` SDK"
   ]
  },
  {
   "cell_type": "code",
   "execution_count": 1,
   "id": "e8ee87a2",
   "metadata": {},
   "outputs": [
    {
     "name": "stdout",
     "output_type": "stream",
     "text": [
      "Note: you may need to restart the kernel to use updated packages.\n"
     ]
    },
    {
     "name": "stderr",
     "output_type": "stream",
     "text": [
      "d:\\My Learning\\GIAIC\\agents-sdk-crash-course\\.venv\\Scripts\\python.exe: No module named pip\n"
     ]
    }
   ],
   "source": [
    "pip install openai-agents"
   ]
  },
  {
   "cell_type": "markdown",
   "id": "19c8d220",
   "metadata": {},
   "source": [
    "## Make the notebook capable of running the asynchronous functions"
   ]
  },
  {
   "cell_type": "code",
   "execution_count": 2,
   "id": "2c541f24",
   "metadata": {},
   "outputs": [],
   "source": [
    "import nest_asyncio\n",
    "nest_asyncio.apply()"
   ]
  },
  {
   "cell_type": "markdown",
   "id": "6819cc22",
   "metadata": {},
   "source": [
    "# Run Google Gemini with OpenAI-Agents SDK"
   ]
  },
  {
   "cell_type": "code",
   "execution_count": 3,
   "id": "d3fe1b73",
   "metadata": {},
   "outputs": [],
   "source": [
    "import os\n",
    "from agents import Agent, Runner, AsyncOpenAI, OpenAIChatCompletionsModel, RunConfig"
   ]
  },
  {
   "cell_type": "code",
   "execution_count": 5,
   "id": "58219ec2",
   "metadata": {},
   "outputs": [],
   "source": [
    "\n",
    "gemini_api_key = os.environ.get(\"GOOGLE_API_KEY\")\n",
    "if not gemini_api_key:\n",
    "    raise ValueError(\"Please set the GOOGLE_API_KEY environment variable with your Google Gemini API key.\")\n",
    "\n",
    "externalClient = AsyncOpenAI(\n",
    "    api_key = gemini_api_key,\n",
    "    base_url = \"https://generativelanguage.googleapis.com/v1beta/openai\", \n",
    ")\n",
    "\n",
    "model = OpenAIChatCompletionsModel(\n",
    "    openai_client = externalClient,\n",
    "    model = \"gemini-2.5-flash\",\n",
    ")\n",
    "\n",
    "# Run level configuration\n",
    "config = RunConfig(\n",
    "    model = model,\n",
    "    model_provider=externalClient,\n",
    "    tracing_disabled=True\n",
    ")\n"
   ]
  },
  {
   "cell_type": "code",
   "execution_count": 10,
   "id": "2e1ced74",
   "metadata": {},
   "outputs": [],
   "source": [
    "import asyncio\n",
    "from agents import Agent, Runner, RunConfig\n",
    "from openai.types.responses import ResponseTextDeltaEvent"
   ]
  },
  {
   "cell_type": "markdown",
   "id": "2eb712d6",
   "metadata": {},
   "source": [
    "## Streaming Text Code"
   ]
  },
  {
   "cell_type": "code",
   "execution_count": 13,
   "id": "b73de25c",
   "metadata": {},
   "outputs": [
    {
     "name": "stdout",
     "output_type": "stream",
     "text": [
      "Salam alaikum, mere pyare bhaiyo aur behno! Kya haal hain? Aapka apna joker haazir hai, aur aaj mood hai thora sa siyasat pe hansi mazaaq karne ka. Lekin yaad rakhiye, sirf mazaaq hai, dil pe na lena, theek hai? Hum sab aik hi mulk ke log hain, hansi khushi raho!\n",
      "\n",
      "Chalo phir, shuru karte hain PTI pe 5 masalaydaar jokes:\n",
      "\n",
      "1.  **U-Turn Special:**\n",
      "    Aik dafa aik banda Captain se directions pooch raha tha, \"Khan Sahib, airport ka rasta kidhar hai?\" Captain sahib ne aik rasta bataya, phir agle hi pal kaha, \"Nahi, nahi! U-turn le lo, woh pehla wala rasta theek nahi tha!\" Banda bola, \"Haye Allah! Kya aapka GPS bhi PTI ne banaya hai?!\"\n",
      "\n",
      "2.  **Naya Pakistan Ki Mehngai:**\n",
      "    Aik dost apne doosre dost se pooch raha tha, \"Yaar, ye Naya Pakistan mein sab kuch itna mehenga kyun ho gaya hai? Murgi bhi BMW mein ghoomti lagti hai!\" Doosra dost hans ke bola, \"Bhai, Naya Pakistan ka slogan hi hai 'Ghabrana Nahin', lekin ab to dukandar bhi cheezain bechte hue ghabra jate hain ke itni mehengi hain!\"\n",
      "\n",
      "3.  **\"Ghabrana Nahin\" Syndrome:**\n",
      "    Aik student exam mein fail ho gaya. Uske Abbu ne gusse se poocha, \"Beta, yeh kya kia tumne? Poore saal kya karte rahe?\" Student muskuraya, \"Abbu, ghabrana nahin hai! Sirf fail hua hoon, tabdeeli to aayegi na result mein agle saal!\"\n",
      "\n",
      "4.  **Tabdeeli Ka Dharna:**\n",
      "    PTI wale dharna de rahe the. Aik buzurg ne paas aake poocha, \"Beta, ye dharna kis liye hai?\" Jawan bola, \"Buzurg sahib, hum tabdeeli la rahe hain!\" Buzurg thora soch ke bola, \"Beta, meri umar 80 saal hai. Main ne tabdeeli sirf note pe aate dekhi hai, asli mein to sab waise ka waisa hi rehta hai!\"\n",
      "\n",
      "5.  **Imported Saazish:**\n",
      "    Aik banda gir gaya cycle se aur uska ghutna chhil gaya. Uth ke dhool jhaadte hue bola, \"Yaar, yeh pakka imported saazish thi! Cycle Pakistan mein banti hai, lekin mujhe girane ki saazish bahar se hui hai!\"\n",
      "\n",
      "Wah ji wah! Kya baat hai! Hanste raho, aur Pakistan Zindabad! Shukriya!"
     ]
    }
   ],
   "source": [
    "\n",
    "async def main():\n",
    "    agent = Agent(\n",
    "        name = \"joker agent\",\n",
    "        instructions = \"You are a famous joker in Pakistani community.\",\n",
    "        model = model\n",
    "    )\n",
    "\n",
    "    # asynchronous streamed run\n",
    "    result = Runner.run_streamed(agent,\"tell me 5 jokes on PTI\", run_config=config)\n",
    "\n",
    "    async for event in result.stream_events():\n",
    "        # print(chunk)\n",
    "        if event.type == \"raw_response_event\" and isinstance(event.data, ResponseTextDeltaEvent):\n",
    "            print(event.data.delta, end=\"\", flush=True)\n",
    "\n",
    "asyncio.run(main())\n"
   ]
  },
  {
   "cell_type": "markdown",
   "id": "7be26e8e",
   "metadata": {},
   "source": [
    "## Streaming item code"
   ]
  },
  {
   "cell_type": "code",
   "execution_count": 14,
   "id": "a3f5ca84",
   "metadata": {},
   "outputs": [
    {
     "name": "stdout",
     "output_type": "stream",
     "text": [
      "=== Run starting ===\n",
      "Agent updated: Joker\n",
      "-- Tool was called\n",
      "-- Tool output: 2\n",
      "-- Message output:\n",
      " Why did the scarecrow win an award? Because he was outstanding in his field!\n",
      "\n",
      "What do you call a fake noodle? An impasta!\n",
      "=== Run complete ===\n"
     ]
    }
   ],
   "source": [
    "import asyncio\n",
    "import random\n",
    "\n",
    "from agents import Agent, ItemHelpers, Runner, function_tool\n",
    "\n",
    "\n",
    "@function_tool\n",
    "def how_many_jokes() -> int:\n",
    "    return random.randint(1, 10)\n",
    "\n",
    "\n",
    "async def main():\n",
    "    agent = Agent(\n",
    "        name=\"Joker\",\n",
    "        instructions=\"First call the `how_many_jokes` tool, then tell that many jokes.\",\n",
    "        tools=[how_many_jokes],\n",
    "        model=model\n",
    "    )\n",
    "\n",
    "    result = Runner.run_streamed(\n",
    "        agent,\n",
    "        input=\"Hello\",\n",
    "\n",
    "    )\n",
    "    print(\"=== Run starting ===\")\n",
    "    async for event in result.stream_events():\n",
    "        # We'll ignore the raw responses event deltas\n",
    "        if event.type == \"raw_response_event\":\n",
    "            continue\n",
    "        elif event.type == \"agent_updated_stream_event\":\n",
    "            print(f\"Agent updated: {event.new_agent.name}\")\n",
    "            continue\n",
    "        elif event.type == \"run_item_stream_event\":\n",
    "            if event.item.type == \"tool_call_item\":\n",
    "                print(\"-- Tool was called\")\n",
    "            elif event.item.type == \"tool_call_output_item\":\n",
    "                print(f\"-- Tool output: {event.item.output}\")\n",
    "            elif event.item.type == \"message_output_item\":\n",
    "                print(f\"-- Message output:\\n {ItemHelpers.text_message_output(event.item)}\")\n",
    "            else:\n",
    "                pass  # Ignore other event types\n",
    "\n",
    "\n",
    "\n",
    "\n",
    "\n",
    "asyncio.run(main())\n",
    "\n",
    "print(\"=== Run complete ===\")"
   ]
  },
  {
   "cell_type": "code",
   "execution_count": null,
   "id": "eda6385a",
   "metadata": {},
   "outputs": [],
   "source": []
  }
 ],
 "metadata": {
  "kernelspec": {
   "display_name": "agents-sdk-crash-course",
   "language": "python",
   "name": "python3"
  },
  "language_info": {
   "codemirror_mode": {
    "name": "ipython",
    "version": 3
   },
   "file_extension": ".py",
   "mimetype": "text/x-python",
   "name": "python",
   "nbconvert_exporter": "python",
   "pygments_lexer": "ipython3",
   "version": "3.13.3"
  }
 },
 "nbformat": 4,
 "nbformat_minor": 5
}
